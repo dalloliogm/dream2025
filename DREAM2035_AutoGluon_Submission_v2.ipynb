
{
 "cells": [
  {
   "cell_type": "markdown",
   "metadata": {},
   "source": [
    "# DREAM Target 2035: Step 1 Model – Multi-Fingerprint + Imbalanced Validation + Submission"
   ]
  },
  {
   "cell_type": "code",
   "source": [
    "!pip install autogluon pandas numpy pyarrow"
   ],
   "metadata": {},
   "execution_count": null,
   "outputs": []
  },
  {
   "cell_type": "code",
   "source": [
    "import pandas as pd\n",
    "import numpy as np\n",
    "from autogluon.tabular import TabularPredictor\n",
    "from sklearn.model_selection import train_test_split"
   ],
   "metadata": {},
   "execution_count": null,
   "outputs": []
  },
  {
   "cell_type": "markdown",
   "source": [
    "## Load and Prepare Training Data"
   ],
   "metadata": {}
  },
  {
   "cell_type": "code",
   "source": [
    "df = pd.read_parquet('data/WDR91.parquet')\n",
    "fps = ['ECFP4', 'ECFP6', 'FCFP4', 'FCFP6', 'MACCS', 'RDK', 'AVALON', 'ATOMPAIR', 'TOPTOR']\n",
    "X = np.hstack([np.stack(df[fp].values) for fp in fps])\n",
    "y = df['TARGET_VALUE'].values"
   ],
   "metadata": {},
   "execution_count": null,
   "outputs": []
  },
  {
   "cell_type": "markdown",
   "source": [
    "## Create Imbalanced Validation Set (~0.4% active)"
   ],
   "metadata": {}
  },
  {
   "cell_type": "code",
   "source": [
    "# Separate actives/inactives\n",
    "X_pos, X_neg = X[y == 1], X[y == 0]\n",
    "y_pos, y_neg = y[y == 1], y[y == 0]\n",
    "n_val_pos = min(500, len(X_pos))\n",
    "n_val_neg = n_val_pos * 250\n",
    "X_val_pos, _, y_val_pos, _ = train_test_split(X_pos, y_pos, test_size=(1 - n_val_pos / len(X_pos)), random_state=42)\n",
    "X_val_neg, _, y_val_neg, _ = train_test_split(X_neg, y_neg, test_size=(1 - n_val_neg / len(X_neg)), random_state=42)\n",
    "X_val = np.vstack([X_val_pos, X_val_neg])\n",
    "y_val = np.hstack([y_val_pos, y_val_neg])\n",
    "X_train = np.vstack([X_pos, X_neg])\n",
    "y_train = np.hstack([y_pos, y_neg])\n",
    "train_df = pd.DataFrame(X_train)\n",
    "train_df['Activity'] = y_train\n",
    "val_df = pd.DataFrame(X_val)\n",
    "val_df['Activity'] = y_val"
   ],
   "metadata": {},
   "execution_count": null,
   "outputs": []
  },
  {
   "cell_type": "markdown",
   "source": [
    "## Train AutoGluon Model"
   ],
   "metadata": {}
  },
  {
   "cell_type": "code",
   "source": [
    "predictor = TabularPredictor(label='Activity', eval_metric='roc_auc').fit(train_df, time_limit=600)"
   ],
   "metadata": {},
   "execution_count": null,
   "outputs": []
  },
  {
   "cell_type": "markdown",
   "source": [
    "## Load Test Set and Generate Submission"
   ],
   "metadata": {}
  },
  {
   "cell_type": "code",
   "source": [
    "test_df = pd.read_parquet('data/Step1_TestData_Target2035.parquet')\n",
    "X_test = np.hstack([np.stack(test_df[fp].values) for fp in fps])\n",
    "X_test_df = pd.DataFrame(X_test)\n",
    "random_ids = test_df['RandomID'].values"
   ],
   "metadata": {},
   "execution_count": null,
   "outputs": []
  },
  {
   "cell_type": "code",
   "source": [
    "# Predict scores\n",
    "scores = predictor.predict_proba(X_test_df)[1]\n",
    "submission = pd.DataFrame({'RandomID': random_ids, 'Score': scores})\n",
    "submission = submission.sort_values('Score', ascending=False).reset_index(drop=True)\n",
    "submission['Sel_200'] = 0\n",
    "submission['Sel_200'].iloc[:200] = 1\n",
    "submission['Sel_500'] = 0\n",
    "submission['Sel_500'].iloc[:500] = 1\n",
    "submission = submission[['RandomID', 'Sel_200', 'Sel_500', 'Score']]\n",
    "submission.to_csv('TeamMyTeamName.csv', index=False)\n",
    "submission.head()"
   ],
   "metadata": {},
   "execution_count": null,
   "outputs": []
  }
 ],
 "metadata": {
  "kernelspec": {
   "display_name": "Python 3",
   "language": "python",
   "name": "python3"
  },
  "language_info": {
   "name": "python",
   "version": "3.9"
  }
 },
 "nbformat": 4,
 "nbformat_minor": 5
}
