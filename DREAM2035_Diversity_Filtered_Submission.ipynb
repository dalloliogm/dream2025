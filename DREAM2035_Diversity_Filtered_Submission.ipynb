
{
 "cells": [
  {
   "cell_type": "markdown",
   "source": [
    "# DREAM Target 2035: AutoGluon Model with Public Ligand Diversity Filtering"
   ],
   "metadata": {}
  },
  {
   "cell_type": "code",
   "source": [
    "!pip install autogluon pandas numpy pyarrow rdkit-pypi"
   ],
   "metadata": {},
   "execution_count": null,
   "outputs": []
  },
  {
   "cell_type": "code",
   "source": [
    "import pandas as pd\n",
    "import numpy as np\n",
    "from autogluon.tabular import TabularPredictor\n",
    "from sklearn.model_selection import train_test_split\n",
    "from rdkit import Chem\n",
    "from rdkit.Chem import AllChem, DataStructs"
   ],
   "metadata": {},
   "execution_count": null,
   "outputs": []
  },
  {
   "cell_type": "markdown",
   "source": [
    "## Load Training Data and Fingerprints"
   ],
   "metadata": {}
  },
  {
   "cell_type": "code",
   "source": [
    "df = pd.read_parquet('data/WDR91.parquet')\n",
    "fps = ['ECFP4', 'ECFP6', 'FCFP4', 'FCFP6', 'MACCS', 'RDK', 'AVALON', 'ATOMPAIR', 'TOPTOR']\n",
    "X = np.hstack([np.stack(df[fp].values) for fp in fps])\n",
    "y = df['TARGET_VALUE'].values"
   ],
   "metadata": {},
   "execution_count": null,
   "outputs": []
  },
  {
   "cell_type": "markdown",
   "source": [
    "## Prepare Imbalanced Validation Set"
   ],
   "metadata": {}
  },
  {
   "cell_type": "code",
   "source": [
    "X_pos, X_neg = X[y == 1], X[y == 0]\n",
    "y_pos, y_neg = y[y == 1], y[y == 0]\n",
    "n_val_pos = min(500, len(X_pos))\n",
    "n_val_neg = n_val_pos * 250\n",
    "X_val_pos, _, y_val_pos, _ = train_test_split(X_pos, y_pos, test_size=(1 - n_val_pos / len(X_pos)), random_state=42)\n",
    "X_val_neg, _, y_val_neg, _ = train_test_split(X_neg, y_neg, test_size=(1 - n_val_neg / len(X_neg)), random_state=42)\n",
    "X_val = np.vstack([X_val_pos, X_val_neg])\n",
    "y_val = np.hstack([y_val_pos, y_val_neg])\n",
    "X_train = np.vstack([X_pos, X_neg])\n",
    "y_train = np.hstack([y_pos, y_neg])\n",
    "train_df = pd.DataFrame(X_train)\n",
    "train_df['Activity'] = y_train\n",
    "val_df = pd.DataFrame(X_val)\n",
    "val_df['Activity'] = y_val"
   ],
   "metadata": {},
   "execution_count": null,
   "outputs": []
  },
  {
   "cell_type": "code",
   "source": [
    "predictor = TabularPredictor(label='Activity', eval_metric='roc_auc').fit(train_df, time_limit=600)"
   ],
   "metadata": {},
   "execution_count": null,
   "outputs": []
  },
  {
   "cell_type": "markdown",
   "source": [
    "## Load Public Ligands and Compute ECFP4 Fingerprints"
   ],
   "metadata": {}
  },
  {
   "cell_type": "code",
   "source": [
    "public_df = pd.read_csv('data/14_public_domain_WDR91_ligands.csv')\n",
    "public_df.dropna(subset=['smiles'], inplace=True)\n",
    "ligand_fps = []\n",
    "for smi in public_df['smiles']:\n",
    "    mol = Chem.MolFromSmiles(smi)\n",
    "    if mol:\n",
    "        fp = AllChem.GetMorganFingerprintAsBitVect(mol, radius=2, nBits=2048)\n",
    "        ligand_fps.append(fp)"
   ],
   "metadata": {},
   "execution_count": null,
   "outputs": []
  },
  {
   "cell_type": "markdown",
   "source": [
    "## Load Test Set and Generate Predictions"
   ],
   "metadata": {}
  },
  {
   "cell_type": "code",
   "source": [
    "test_df = pd.read_parquet('data/Step1_TestData_Target2035.parquet')\n",
    "X_test = np.hstack([np.stack(test_df[fp].values) for fp in fps])\n",
    "X_test_df = pd.DataFrame(X_test)\n",
    "random_ids = test_df['RandomID'].values\n",
    "test_scores = predictor.predict_proba(X_test_df)[1]\n",
    "submission = pd.DataFrame({'RandomID': random_ids, 'Score': test_scores})"
   ],
   "metadata": {},
   "execution_count": null,
   "outputs": []
  },
  {
   "cell_type": "markdown",
   "source": [
    "## Filter Top-500 for Diversity Against Public Ligands"
   ],
   "metadata": {}
  },
  {
   "cell_type": "code",
   "source": [
    "submission_sorted = submission.sort_values('Score', ascending=False).copy()\n",
    "\n",
    "# Select top candidates avoiding high similarity\n",
    "selected = []\n",
    "from rdkit import RDLogger\n",
    "RDLogger.DisableLog('rdApp.*')\n",
    "for idx, row in submission_sorted.iterrows():\n",
    "    mol = Chem.MolFromSmiles(test_df.iloc[idx]['smiles']) if 'smiles' in test_df.columns else None\n",
    "    if not mol: continue\n",
    "    fp = AllChem.GetMorganFingerprintAsBitVect(mol, radius=2, nBits=2048)\n",
    "    sim_to_public = [DataStructs.TanimotoSimilarity(fp, pub_fp) for pub_fp in ligand_fps]\n",
    "    if max(sim_to_public) < 0.8:\n",
    "        selected.append(idx)\n",
    "    if len(selected) >= 500: break\n",
    "submission_sorted['Sel_500'] = 0\n",
    "submission_sorted.loc[selected[:500], 'Sel_500'] = 1\n",
    "submission_sorted['Sel_200'] = 0\n",
    "submission_sorted.loc[selected[:200], 'Sel_200'] = 1\n",
    "submission_sorted[['RandomID', 'Sel_200', 'Sel_500', 'Score']].to_csv('TeamMyTeamName.csv', index=False)"
   ],
   "metadata": {},
   "execution_count": null,
   "outputs": []
  }
 ],
 "metadata": {
  "kernelspec": {
   "name": "python3",
   "display_name": "Python 3"
  },
  "language_info": {
   "name": "python",
   "version": "3.9"
  }
 },
 "nbformat": 4,
 "nbformat_minor": 5
}
