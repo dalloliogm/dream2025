
{
 "cells": [
  {
   "cell_type": "markdown",
   "metadata": {},
   "source": [
    "# DREAM Target 2035 Step 1: Model Interpretation\n",
    "This notebook trains an AutoGluon model on ECFP4 fingerprints, evaluates feature importance, and uses SHAP + RDKit to interpret the most predictive bits."
   ]
  },
  {
   "cell_type": "code",
   "execution_count": null,
   "metadata": {},
   "outputs": [],
   "source": [
    "# Install required packages\n",
    "!pip install autogluon shap rdkit-pypi"
   ]
  },
  {
   "cell_type": "code",
   "execution_count": null,
   "metadata": {},
   "outputs": [],
   "source": [
    "import pandas as pd\n",
    "import numpy as np\n",
    "from autogluon.tabular import TabularPredictor\n",
    "from sklearn.model_selection import train_test_split\n",
    "import matplotlib.pyplot as plt"
   ]
  },
  {
   "cell_type": "markdown",
   "metadata": {},
   "source": [
    "## Load and Prepare Data"
   ]
  },
  {
   "cell_type": "code",
   "execution_count": null,
   "metadata": {},
   "outputs": [],
   "source": [
    "# Load ECFP4 fingerprint training data\n",
    "df = pd.read_parquet('TrainData-Target2035.parquet')\n",
    "X = np.stack(df['ECFP4'].values)\n",
    "y = df['Activity'].values\n",
    "df_feat = pd.DataFrame(X.tolist())\n",
    "df_feat['Activity'] = y\n",
    "train_data, val_data = train_test_split(df_feat, stratify=df_feat['Activity'], test_size=0.2, random_state=42)"
   ]
  },
  {
   "cell_type": "markdown",
   "metadata": {},
   "source": [
    "## Train AutoGluon"
   ]
  },
  {
   "cell_type": "code",
   "execution_count": null,
   "metadata": {},
   "outputs": [],
   "source": [
    "predictor = TabularPredictor(label='Activity', eval_metric='roc_auc').fit(train_data, time_limit=600)"
   ]
  },
  {
   "cell_type": "markdown",
   "metadata": {},
   "source": [
    "## Feature Importance"
   ]
  },
  {
   "cell_type": "code",
   "execution_count": null,
   "metadata": {},
   "outputs": [],
   "source": [
    "importances = predictor.feature_importance(val_data)\n",
    "importances[:30].plot(kind='barh', figsize=(10, 8))\n",
    "plt.title('Top 30 Important ECFP4 Bits')\n",
    "plt.gca().invert_yaxis()\n",
    "plt.show()"
   ]
  },
  {
   "cell_type": "markdown",
   "metadata": {},
   "source": [
    "## SHAP Interaction Analysis (via XGBoost)"
   ]
  },
  {
   "cell_type": "code",
   "execution_count": null,
   "metadata": {},
   "outputs": [],
   "source": [
    "import shap\n",
    "import xgboost as xgb\n",
    "X_np = np.stack(df['ECFP4'].values)\n",
    "xgb_model = xgb.XGBClassifier(n_jobs=-1).fit(X_np, y)\n",
    "explainer = shap.Explainer(xgb_model, X_np[:1000])\n",
    "shap_values = explainer(X_np[:1000])\n",
    "shap.plots.beeswarm(shap_values, max_display=20)"
   ]
  },
  {
   "cell_type": "markdown",
   "metadata": {},
   "source": [
    "## Optional: Visualize Important Bits with RDKit"
   ]
  },
  {
   "cell_type": "code",
   "execution_count": null,
   "metadata": {},
   "outputs": [],
   "source": [
    "from rdkit import Chem\n",
    "from rdkit.Chem import Draw\n",
    "from rdkit.Chem import AllChem\n",
    "from rdkit.Chem.Draw import SimilarityMaps\n",
    "\n",
    "# Example molecule (benzoic acid)\n",
    "mol = Chem.MolFromSmiles('c1ccccc1C(=O)O')\n",
    "bitInfo = {}\n",
    "fp = AllChem.GetMorganFingerprintAsBitVect(mol, radius=2, nBits=2048, bitInfo=bitInfo)\n",
    "onbits = list(fp.GetOnBits())\n",
    "bit = onbits[0]\n",
    "SimilarityMaps.GetBitFingerprint(mol, fp, bitInfo, bitId=bit)"
   ]
  }
 ],
 "metadata": {
  "kernelspec": {
   "display_name": "Python 3",
   "language": "python",
   "name": "python3"
  },
  "language_info": {
   "name": "python",
   "version": "3.9"
  }
 },
 "nbformat": 4,
 "nbformat_minor": 5
}
